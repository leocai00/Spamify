{
 "cells": [
  {
   "cell_type": "code",
   "execution_count": 86,
   "metadata": {
    "collapsed": true
   },
   "outputs": [],
   "source": [
    "import IPython\n",
    "import numpy as np\n",
    "import scipy as sp\n",
    "import pandas as pd\n",
    "import matplotlib\n",
    "import sklearn as skl\n",
    "from sklearn.naive_bayes import GaussianNB, BernoulliNB, MultinomialNB"
   ]
  },
  {
   "cell_type": "code",
   "execution_count": 87,
   "metadata": {
    "collapsed": true
   },
   "outputs": [],
   "source": [
    "# Constants\n",
    "FEATURE_FILE_NAME_TRAIN = 'Data/train-features.txt'\n",
    "TARGET_FILE_NAME_TRAIN = 'Data/train-labels.txt'\n",
    "\n",
    "FEATURE_FILE_NAME_TEST = 'Data/test-features.txt'\n",
    "TARGET_FILE_NAME_TEST = 'Data/test-labels.txt'\n",
    "\n",
    "N_COL = 2500 # number of unique words from dataset\n",
    "\n",
    "# number of data entries\n",
    "N_ROW_TRAIN = 700 \n",
    "N_ROW_TEST = 260"
   ]
  },
  {
   "cell_type": "code",
   "execution_count": 88,
   "metadata": {},
   "outputs": [],
   "source": [
    "def get_df(feature_file, target_file, n_col, n_row):  \n",
    "    # Initialze data frame\n",
    "    df = pd.DataFrame(columns=range(1,n_col + 1), index=range(1, n_row + 1))\n",
    "    # Import data and populate data frame\n",
    "    with open(feature_file) as f:\n",
    "        for _, line in enumerate(f):\n",
    "            line = line.split(' ')  # each line in file\n",
    "            doc = int(line[0])\n",
    "            word_id = int(line[1])\n",
    "            freq = int(line[2])     \n",
    "            df[word_id][doc] = freq\n",
    "    # Replace NaN with 0s\n",
    "    df = df.fillna(0)\n",
    "\n",
    "    # Add target to data frame\n",
    "    email_label = pd.read_csv(target_file , sep=\" \", header=None, names = [\"target\"])\n",
    "    df['target'] = list(email_label['target']) \n",
    "    return df"
   ]
  },
  {
   "cell_type": "code",
   "execution_count": 89,
   "metadata": {},
   "outputs": [],
   "source": [
    "def naive_bayes(train_set, test_set, features):\n",
    "    # Instantiate the classifier\n",
    "    gnb = skl.naive_bayes.MultinomialNB()\n",
    "    # Train classifier\n",
    "    gnb.fit(\n",
    "        train_set[features].values,\n",
    "        train_set[\"target\"]\n",
    "    )\n",
    "    y_pred = gnb.predict(test_set[features])\n",
    "    \n",
    "    # Report results\n",
    "    n_points = test_set.shape[0]\n",
    "    inaccurates = (test_set[\"target\"] != y_pred).sum()\n",
    "    print(\"Number of mislabeled points out of a total {} points : {}, performance {:05.2f}%\"\n",
    "          .format(n_points, inaccurates, 100*(1-inaccurates / n_points)))"
   ]
  },
  {
   "cell_type": "code",
   "execution_count": 90,
   "metadata": {},
   "outputs": [
    {
     "name": "stdout",
     "output_type": "stream",
     "text": [
      "Number of mislabeled points out of a total 260 points : 5, performance 98.08%\n"
     ]
    }
   ],
   "source": [
    "def main():\n",
    "    train_df = get_df(FEATURE_FILE_NAME_TRAIN, TARGET_FILE_NAME_TRAIN, N_COL, N_ROW_TRAIN)\n",
    "    test_df = get_df(FEATURE_FILE_NAME_TEST, TARGET_FILE_NAME_TEST, N_COL, N_ROW_TEST)\n",
    "    features = list(range(1, N_COL + 1)) # every word as a feature\n",
    "\n",
    "    naive_bayes(train_df, test_df, features)\n",
    "    \n",
    "    \n",
    "if __name__ == \"__main__\":\n",
    "    main()"
   ]
  },
  {
   "cell_type": "code",
   "execution_count": null,
   "metadata": {
    "collapsed": true
   },
   "outputs": [],
   "source": []
  },
  {
   "cell_type": "code",
   "execution_count": null,
   "metadata": {
    "collapsed": true
   },
   "outputs": [],
   "source": []
  }
 ],
 "metadata": {
  "kernelspec": {
   "display_name": "Python 3",
   "language": "python",
   "name": "python3"
  },
  "language_info": {
   "codemirror_mode": {
    "name": "ipython",
    "version": 3
   },
   "file_extension": ".py",
   "mimetype": "text/x-python",
   "name": "python",
   "nbconvert_exporter": "python",
   "pygments_lexer": "ipython3",
   "version": "3.6.2"
  }
 },
 "nbformat": 4,
 "nbformat_minor": 2
}
