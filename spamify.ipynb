{
 "cells": [
  {
   "cell_type": "code",
   "execution_count": 161,
   "metadata": {
    "collapsed": true
   },
   "outputs": [],
   "source": [
    "import IPython\n",
    "import numpy as np\n",
    "import scipy as sp\n",
    "import pandas as pd\n",
    "import matplotlib\n",
    "import sklearn as skl\n",
    "from sklearn import naive_bayes, metrics, tree\n",
    "import time\n",
    "import matplotlib.pyplot as plt "
   ]
  },
  {
   "cell_type": "code",
   "execution_count": 162,
   "metadata": {
    "collapsed": true
   },
   "outputs": [],
   "source": [
    "# Constants\n",
    "FEATURE_FILE_NAME_TRAIN = 'Data/train-features.txt'\n",
    "TARGET_FILE_NAME_TRAIN = 'Data/train-labels.txt'\n",
    "\n",
    "FEATURE_FILE_NAME_TEST = 'Data/test-features.txt'\n",
    "TARGET_FILE_NAME_TEST = 'Data/test-labels.txt'\n",
    "\n",
    "N_COL = 2500 # number of unique words from dataset\n",
    "\n",
    "# number of data entries\n",
    "N_ROW_TRAIN = 700 \n",
    "N_ROW_TEST = 260"
   ]
  },
  {
   "cell_type": "code",
   "execution_count": 163,
   "metadata": {
    "collapsed": true
   },
   "outputs": [],
   "source": [
    "def create_df(feature_file, target_file, n_col, n_row):  \n",
    "    # Initialze data frame\n",
    "    df = pd.DataFrame(columns=range(1,n_col + 1), index=range(1, n_row + 1))\n",
    "    # Import data and populate data frame\n",
    "    with open(feature_file) as f:\n",
    "        for _, line in enumerate(f):\n",
    "            line = line.split(' ')  # each line in file\n",
    "            doc = int(line[0])\n",
    "            word_id = int(line[1])\n",
    "            freq = int(line[2])     \n",
    "            df[word_id][doc] = freq\n",
    "    # Replace NaN with 0s\n",
    "    df = df.fillna(0)\n",
    "\n",
    "    # Add target to data frame\n",
    "    email_label = pd.read_csv(target_file , sep=\" \", header=None, names = [\"target\"])\n",
    "    df['target'] = list(email_label['target']) \n",
    "    return df"
   ]
  },
  {
   "cell_type": "code",
   "execution_count": 164,
   "metadata": {
    "collapsed": true
   },
   "outputs": [],
   "source": [
    "def report_results(algo_name, time_taken, test_target, y_pred):\n",
    "    # Report results\n",
    "    print(algo_name + \" Results: \")\n",
    "    print(\"Time taken: \" + str(round(time_taken,2)) + \" seconds\")\n",
    "    print('accuracy_score: ', skl.metrics.accuracy_score(test_target, y_pred,normalize=True))\n",
    "    print('recall_score: ', skl.metrics.recall_score(test_target, y_pred))\n",
    "    print('precision_score: ', skl.metrics.precision_score(test_target, y_pred))\n",
    "    print('F_score: ', skl.metrics.f1_score(test_target, y_pred))\n",
    "    print('roc_curve: ', skl.metrics.roc_curve(test_target, y_pred))\n",
    "    print('confusion_matrix: ', skl.metrics.confusion_matrix(test_target, y_pred))\n",
    "    print()"
   ]
  },
  {
   "cell_type": "code",
   "execution_count": 165,
   "metadata": {
    "collapsed": true
   },
   "outputs": [],
   "source": [
    "def naive_bayes_algo(train_set, test_set, features):\n",
    "    start_time = time.time()\n",
    "    # Instantiate the classifier\n",
    "    gnb = skl.naive_bayes.MultinomialNB()\n",
    "    # Train classifier\n",
    "    gnb.fit(train_set[features].values, train_set[\"target\"])\n",
    "    # Predict\n",
    "    y_pred = gnb.predict(test_set[features])\n",
    "    # Report results\n",
    "    report_results(\"Naive Bayes\", time.time() - start_time, test_set[\"target\"], y_pred)"
   ]
  },
  {
   "cell_type": "code",
   "execution_count": 166,
   "metadata": {
    "collapsed": true
   },
   "outputs": [],
   "source": [
    "def decision_tree(train_set, test_set, features):\n",
    "    start_time = time.time()\n",
    "    # Instantiate the classifier\n",
    "    tree = skl.tree.DecisionTreeClassifier(criterion = \"entropy\")\n",
    "    # Train classifier\n",
    "    tree.fit(train_set[features].values, train_set['target'])\n",
    "    # Predict\n",
    "    y_pred = tree.predict(test_set[features])\n",
    "    # Report results\n",
    "    report_results(\"Decision Tree\", time.time() - start_time, test_set[\"target\"], y_pred)"
   ]
  },
  {
   "cell_type": "code",
   "execution_count": 167,
   "metadata": {
    "collapsed": true
   },
   "outputs": [],
   "source": [
    "def knn(train_set, test_set, features): \n",
    "    start_time = time.time()\n",
    "    # Instantiate the classifier\n",
    "    k_neighbors= skl.neighbors.KNeighborsClassifier()\n",
    "    # Train classifier\n",
    "    k_neighbors.fit(train_set[features].values, train_set['target'])\n",
    "    # Predict\n",
    "    y_pred = k_neighbors.predict(test_set[features])  \n",
    "    # Report results\n",
    "    report_results(\"K-Nearest Neighbor\", time.time() - start_time, test_set[\"target\"], y_pred)"
   ]
  },
  {
   "cell_type": "code",
   "execution_count": 168,
   "metadata": {
    "collapsed": true
   },
   "outputs": [],
   "source": [
    "def plot():\n",
    "    # plot running time\n",
    "    runtime = [0.05, 0.09, 1.2]\n",
    "    types = [1, 2, 3]\n",
    "\n",
    "    plt.bar(types, runtime, align='center')\n",
    "    plt.xticks(types, [\"Naive Bayes\", \"Decision Tree\", \"K Neighbors\"])\n",
    "    plt.xlabel(\"Algorithms\")\n",
    "    plt.ylabel(\"Time Taken (seconds)\")\n",
    "    plt.show()\n",
    "\n",
    "    # plot performance\n",
    "    data = [[0.98, 0.99, 0.97], [0.94, 0.92, 0.97], [0.91, 0.98, 0.86]]\n",
    "    df = pd.DataFrame(data, index=[\"Naive Bayes\", \"Decision Tree\", \"K Neighbors\"],\n",
    "                      columns=pd.Index([\"accuracy\", \"recall\", \"precision\"]))\n",
    "    df.plot(kind='bar', figsize=(10, 5), width=0.7)\n",
    "\n",
    "    ax = plt.gca()\n",
    "    pos = []\n",
    "    for bar in ax.patches:\n",
    "        pos.append(bar.get_x()+bar.get_width()/2.)\n",
    "\n",
    "    ax.set_xticks(pos, minor=True)\n",
    "    lab = []\n",
    "    for i in range(len(pos)):\n",
    "        l = df.columns.values[i//len(df.index.values)]\n",
    "        lab.append(l)\n",
    "\n",
    "    for p in ax.patches:\n",
    "        ax.annotate(str(p.get_height()), (p.get_x()\n",
    "                                          * 1.005, p.get_height() * 1.005))\n",
    "\n",
    "    ax.set_xticklabels(lab, minor=True)\n",
    "    ax.legend(loc='center left', bbox_to_anchor=(1.0, 0.5))\n",
    "    ax.tick_params(axis='x', which='major', pad=15, size=0)\n",
    "    plt.setp(ax.get_xticklabels(), rotation=0)\n",
    "    plt.xlabel(\"Algorithms - Tests\")\n",
    "    plt.ylabel(\"Scores\")\n",
    "\n",
    "    plt.show()"
   ]
  },
  {
   "cell_type": "code",
   "execution_count": 169,
   "metadata": {},
   "outputs": [
    {
     "ename": "NameError",
     "evalue": "name 'naive_bayes_algo' is not defined",
     "output_type": "error",
     "traceback": [
      "\u001b[0;31m---------------------------------------------------------------------------\u001b[0m",
      "\u001b[0;31mNameError\u001b[0m                                 Traceback (most recent call last)",
      "\u001b[0;32m<ipython-input-169-cf15c1c83d10>\u001b[0m in \u001b[0;36m<module>\u001b[0;34m()\u001b[0m\n\u001b[1;32m     17\u001b[0m \u001b[0;34m\u001b[0m\u001b[0m\n\u001b[1;32m     18\u001b[0m \u001b[0;32mif\u001b[0m \u001b[0m__name__\u001b[0m \u001b[0;34m==\u001b[0m \u001b[0;34m\"__main__\"\u001b[0m\u001b[0;34m:\u001b[0m\u001b[0;34m\u001b[0m\u001b[0m\n\u001b[0;32m---> 19\u001b[0;31m     \u001b[0mmain\u001b[0m\u001b[0;34m(\u001b[0m\u001b[0;34m)\u001b[0m\u001b[0;34m\u001b[0m\u001b[0m\n\u001b[0m",
      "\u001b[0;32m<ipython-input-169-cf15c1c83d10>\u001b[0m in \u001b[0;36mmain\u001b[0;34m()\u001b[0m\n\u001b[1;32m      8\u001b[0m \u001b[0;34m\u001b[0m\u001b[0m\n\u001b[1;32m      9\u001b[0m     \u001b[0;31m# run different algorithms\u001b[0m\u001b[0;34m\u001b[0m\u001b[0;34m\u001b[0m\u001b[0m\n\u001b[0;32m---> 10\u001b[0;31m     \u001b[0mnaive_bayes_algo\u001b[0m\u001b[0;34m(\u001b[0m\u001b[0mtrain_df\u001b[0m\u001b[0;34m,\u001b[0m \u001b[0mtest_df\u001b[0m\u001b[0;34m,\u001b[0m \u001b[0mfeatures\u001b[0m\u001b[0;34m)\u001b[0m\u001b[0;34m\u001b[0m\u001b[0m\n\u001b[0m\u001b[1;32m     11\u001b[0m     \u001b[0mdecision_tree\u001b[0m\u001b[0;34m(\u001b[0m\u001b[0mtrain_df\u001b[0m\u001b[0;34m,\u001b[0m \u001b[0mtest_df\u001b[0m\u001b[0;34m,\u001b[0m \u001b[0mfeatures\u001b[0m\u001b[0;34m)\u001b[0m\u001b[0;34m\u001b[0m\u001b[0m\n\u001b[1;32m     12\u001b[0m     \u001b[0mknn\u001b[0m\u001b[0;34m(\u001b[0m\u001b[0mtrain_df\u001b[0m\u001b[0;34m,\u001b[0m \u001b[0mtest_df\u001b[0m\u001b[0;34m,\u001b[0m \u001b[0mfeatures\u001b[0m\u001b[0;34m)\u001b[0m\u001b[0;34m\u001b[0m\u001b[0m\n",
      "\u001b[0;31mNameError\u001b[0m: name 'naive_bayes_algo' is not defined"
     ]
    }
   ],
   "source": [
    "def main():\n",
    "    # data preparation\n",
    "    train_df = create_df(FEATURE_FILE_NAME_TRAIN,\n",
    "                         TARGET_FILE_NAME_TRAIN, N_COL, N_ROW_TRAIN)\n",
    "    test_df = create_df(FEATURE_FILE_NAME_TEST,\n",
    "                        TARGET_FILE_NAME_TEST, N_COL, N_ROW_TEST)\n",
    "    features = list(range(1, N_COL + 1))  # every word as a feature\n",
    "\n",
    "    # run different algorithms\n",
    "    naive_bayes_algo(train_df, test_df, features)\n",
    "    decision_tree(train_df, test_df, features)\n",
    "    knn(train_df, test_df, features)\n",
    "\n",
    "    # plot graphs\n",
    "    plot()\n",
    "    \n",
    "    \n",
    "if __name__ == \"__main__\":\n",
    "    main()"
   ]
  },
  {
   "cell_type": "code",
   "execution_count": null,
   "metadata": {
    "collapsed": true
   },
   "outputs": [],
   "source": []
  },
  {
   "cell_type": "code",
   "execution_count": null,
   "metadata": {
    "scrolled": true
   },
   "outputs": [],
   "source": [
    "\n"
   ]
  }
 ],
 "metadata": {
  "kernelspec": {
   "display_name": "Python 3",
   "language": "python",
   "name": "python3"
  },
  "language_info": {
   "codemirror_mode": {
    "name": "ipython",
    "version": 3
   },
   "file_extension": ".py",
   "mimetype": "text/x-python",
   "name": "python",
   "nbconvert_exporter": "python",
   "pygments_lexer": "ipython3",
   "version": "3.6.2"
  }
 },
 "nbformat": 4,
 "nbformat_minor": 2
}
