{
 "cells": [
  {
   "cell_type": "code",
   "execution_count": 124,
   "metadata": {
    "collapsed": true
   },
   "outputs": [],
   "source": [
    "import IPython\n",
    "import numpy as np\n",
    "import scipy as sp\n",
    "import pandas as pd\n",
    "import matplotlib\n",
    "import sklearn as skl\n",
    "import time\n",
    "import matplotlib.pyplot as plt "
   ]
  },
  {
   "cell_type": "code",
   "execution_count": 125,
   "metadata": {
    "collapsed": true
   },
   "outputs": [],
   "source": [
    "# Constants\n",
    "FEATURE_FILE_NAME_TRAIN = 'Data/train-features.txt'\n",
    "TARGET_FILE_NAME_TRAIN = 'Data/train-labels.txt'\n",
    "\n",
    "FEATURE_FILE_NAME_TEST = 'Data/test-features.txt'\n",
    "TARGET_FILE_NAME_TEST = 'Data/test-labels.txt'\n",
    "\n",
    "N_COL = 2500 # number of unique words from dataset\n",
    "\n",
    "# number of data entries\n",
    "N_ROW_TRAIN = 700 \n",
    "N_ROW_TEST = 260"
   ]
  },
  {
   "cell_type": "code",
   "execution_count": 126,
   "metadata": {
    "collapsed": true
   },
   "outputs": [],
   "source": [
    "def create_df(feature_file, target_file, n_col, n_row):  \n",
    "    # Initialze data frame\n",
    "    df = pd.DataFrame(columns=range(1,n_col + 1), index=range(1, n_row + 1))\n",
    "    # Import data and populate data frame\n",
    "    with open(feature_file) as f:\n",
    "        for _, line in enumerate(f):\n",
    "            line = line.split(' ')  # each line in file\n",
    "            doc = int(line[0])\n",
    "            word_id = int(line[1])\n",
    "            freq = int(line[2])     \n",
    "            df[word_id][doc] = freq\n",
    "    # Replace NaN with 0s\n",
    "    df = df.fillna(0)\n",
    "\n",
    "    # Add target to data frame\n",
    "    email_label = pd.read_csv(target_file , sep=\" \", header=None, names = [\"target\"])\n",
    "    df['target'] = list(email_label['target']) \n",
    "    return df"
   ]
  },
  {
   "cell_type": "code",
   "execution_count": 137,
   "metadata": {
    "collapsed": true
   },
   "outputs": [],
   "source": [
    "def report_results(algo_name, time_taken, test_target, y_pred):\n",
    "    # Report results\n",
    "    print(algo_name + \" Results: \")\n",
    "    print(\"Time taken: \" + str(round(time_taken,2)) + \" seconds\")\n",
    "    print('accuracy_score: ', skl.metrics.accuracy_score(test_target, y_pred,normalize=True))\n",
    "    print('recall_score: ', skl.metrics.recall_score(test_target, y_pred))\n",
    "    print('precision_score: ', skl.metrics.precision_score(test_target, y_pred))\n",
    "    print('F_score: ', skl.metrics.f1_score(test_target, y_pred))\n",
    "    print('roc_curve: ', skl.metrics.roc_curve(test_target, y_pred))\n",
    "    print('confusion_matrix: ', skl.metrics.confusion_matrix(test_target, y_pred))\n",
    "    print()"
   ]
  },
  {
   "cell_type": "code",
   "execution_count": 138,
   "metadata": {
    "collapsed": true
   },
   "outputs": [],
   "source": [
    "def naive_bayes(train_set, test_set, features):\n",
    "    start_time = time.time()\n",
    "    # Instantiate the classifier\n",
    "    gnb = skl.naive_bayes.MultinomialNB()\n",
    "    # Train classifier\n",
    "    gnb.fit(train_set[features].values, train_set[\"target\"])\n",
    "    # Predict\n",
    "    y_pred = gnb.predict(test_set[features])\n",
    "    # Report results\n",
    "    report_results(\"Naive Bayes\", time.time() - start_time, test_set[\"target\"], y_pred)"
   ]
  },
  {
   "cell_type": "code",
   "execution_count": 140,
   "metadata": {
    "collapsed": true
   },
   "outputs": [],
   "source": [
    "def decision_tree(train_set, test_set, features):\n",
    "    start_time = time.time()\n",
    "    # Instantiate the classifier\n",
    "    tree = skl.tree.DecisionTreeClassifier(criterion = \"entropy\")\n",
    "    # Train classifier\n",
    "    tree.fit(train_set[features].values, train_set['target'])\n",
    "    # Predict\n",
    "    y_pred = tree.predict(test_set[features])\n",
    "    # Report results\n",
    "    report_results(\"Decision Tree\", time.time() - start_time, test_set[\"target\"], y_pred)"
   ]
  },
  {
   "cell_type": "code",
   "execution_count": 141,
   "metadata": {
    "collapsed": true
   },
   "outputs": [],
   "source": [
    "def knn(train_set, test_set, features): \n",
    "    start_time = time.time()\n",
    "    # Instantiate the classifier\n",
    "    k_neighbors= skl.neighbors.KNeighborsClassifier()\n",
    "    # Train classifier\n",
    "    k_neighbors.fit(train_set[features].values, train_set['target'])\n",
    "    # Predict\n",
    "    y_pred = k_neighbors.predict(test_set[features])  \n",
    "    # Report results\n",
    "    report_results(\"K-Nearest Neighbor\", time.time() - start_time, test_set[\"target\"], y_pred)"
   ]
  },
  {
   "cell_type": "code",
   "execution_count": 142,
   "metadata": {},
   "outputs": [
    {
     "name": "stdout",
     "output_type": "stream",
     "text": [
      "Naive Bayes Results: \n",
      "Time taken: 0.05 seconds\n",
      "accuracy_score:  0.980769230769\n",
      "recall_score:  0.992307692308\n",
      "precision_score:  0.96992481203\n",
      "F_score:  0.980988593156\n",
      "roc_curve:  (array([ 0.        ,  0.03076923,  1.        ]), array([ 0.        ,  0.99230769,  1.        ]), array([2, 1, 0]))\n",
      "confusion_matrix:  [[126   4]\n",
      " [  1 129]]\n",
      "\n",
      "Decision Tree Results: \n",
      "Time taken: 0.09 seconds\n",
      "accuracy_score:  0.946153846154\n",
      "recall_score:  0.923076923077\n",
      "precision_score:  0.967741935484\n",
      "F_score:  0.944881889764\n",
      "roc_curve:  (array([ 0.        ,  0.03076923,  1.        ]), array([ 0.        ,  0.92307692,  1.        ]), array([2, 1, 0]))\n",
      "confusion_matrix:  [[126   4]\n",
      " [ 10 120]]\n",
      "\n",
      "K-Nearest Neighbor Results: \n",
      "Time taken: 1.02 seconds\n",
      "accuracy_score:  0.911538461538\n",
      "recall_score:  0.984615384615\n",
      "precision_score:  0.859060402685\n",
      "F_score:  0.917562724014\n",
      "roc_curve:  (array([ 0.        ,  0.16153846,  1.        ]), array([ 0.        ,  0.98461538,  1.        ]), array([2, 1, 0]))\n",
      "confusion_matrix:  [[109  21]\n",
      " [  2 128]]\n",
      "\n"
     ]
    }
   ],
   "source": [
    "def main():\n",
    "    train_df = create_df(FEATURE_FILE_NAME_TRAIN, TARGET_FILE_NAME_TRAIN, N_COL, N_ROW_TRAIN)\n",
    "    test_df = create_df(FEATURE_FILE_NAME_TEST, TARGET_FILE_NAME_TEST, N_COL, N_ROW_TEST)\n",
    "    features = list(range(1, N_COL + 1)) # every word as a feature\n",
    "\n",
    "    naive_bayes(train_df, test_df, features)\n",
    "    decision_tree(train_df, test_df, features)\n",
    "    knn(train_df, test_df, features)\n",
    "    \n",
    "if __name__ == \"__main__\":\n",
    "    main()"
   ]
  },
  {
   "cell_type": "code",
   "execution_count": 143,
   "metadata": {
    "collapsed": true
   },
   "outputs": [],
   "source": []
  },
  {
   "cell_type": "code",
   "execution_count": 160,
   "metadata": {},
   "outputs": [
    {
     "data": {
      "image/png": "[encoded data removed]",
      "text/plain": [
       "<matplotlib.figure.Figure at 0x150ee62630>"
      ]
     },
     "metadata": {},
     "output_type": "display_data"
    }
   ],
   "source": [
    "import matplotlib.pyplot as plt \n",
    "runtime = [0.05, 0.09, 1.2]\n",
    "types = [1 ,2, 3]\n",
    "\n",
    "plt.bar(types, runtime, align='center')    \n",
    "plt.xticks(types, [\"Naive Bayes\", \"Decision Tree\", \"K Neighbors\"])\n",
    "plt.xlabel(\"Algorithms\")\n",
    "plt.ylabel(\"Time Taken (seconds)\")\n",
    "plt.show()\n"
   ]
  },
  {
   "cell_type": "code",
   "execution_count": 105,
   "metadata": {},
   "outputs": [
    {
     "data": {
      "image/png": "[encoded data removed]",
      "text/plain": [
       "<matplotlib.figure.Figure at 0x1a18293080>"
      ]
     },
     "metadata": {},
     "output_type": "display_data"
    }
   ],
   "source": [
    "data = [[0.98, 0.99, 0.97], [0.94, 0.92, 0.97], [0.91, 0.98, 0.86]]\n",
    "df = pd.DataFrame(data,index=[\"Naive Bayes\", \"Decision Tree\", \"K Neighbors\"],\n",
    "                 columns=pd.Index([\"accuracy\", \"recall\", \"precision\"]))\n",
    "df.plot(kind='bar',figsize=(10,5), width=0.7)\n",
    "\n",
    "ax = plt.gca()\n",
    "pos = []\n",
    "for bar in ax.patches:\n",
    "    pos.append(bar.get_x()+bar.get_width()/2.)\n",
    "\n",
    "ax.set_xticks(pos,minor=True)\n",
    "lab = []\n",
    "for i in range(len(pos)):\n",
    "    l = df.columns.values[i//len(df.index.values)]\n",
    "    lab.append(l)\n",
    "\n",
    "for p in ax.patches:\n",
    "    ax.annotate(str(p.get_height()), (p.get_x() * 1.005, p.get_height() * 1.005))\n",
    "    \n",
    "ax.set_xticklabels(lab,minor=True)\n",
    "ax.legend(loc='center left', bbox_to_anchor=(1.0, 0.5))\n",
    "ax.tick_params(axis='x', which='major', pad=15, size=0)\n",
    "plt.setp(ax.get_xticklabels(), rotation=0)\n",
    "\n",
    "plt.show()\n"
   ]
  },
  {
   "cell_type": "code",
   "execution_count": null,
   "metadata": {
    "collapsed": true
   },
   "outputs": [],
   "source": []
  }
 ],
 "metadata": {
  "kernelspec": {
   "display_name": "Python 3",
   "language": "python",
   "name": "python3"
  },
  "language_info": {
   "codemirror_mode": {
    "name": "ipython",
    "version": 3
   },
   "file_extension": ".py",
   "mimetype": "text/x-python",
   "name": "python",
   "nbconvert_exporter": "python",
   "pygments_lexer": "ipython3",
   "version": "3.6.2"
  }
 },
 "nbformat": 4,
 "nbformat_minor": 2
}
