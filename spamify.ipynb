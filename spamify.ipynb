{
 "cells": [
  {
   "cell_type": "code",
   "execution_count": 55,
   "metadata": {},
   "outputs": [],
   "source": [
    "import IPython\n",
    "import numpy as np\n",
    "import scipy as sp\n",
    "import pandas as pd\n",
    "import matplotlib\n",
    "import sklearn as skl\n",
    "from sklearn import tree\n",
    "from sklearn import model_selection\n",
    "from sklearn.naive_bayes import GaussianNB, BernoulliNB, MultinomialNB"
   ]
  },
  {
   "cell_type": "code",
   "execution_count": 49,
   "metadata": {},
   "outputs": [],
   "source": [
    "# Constants\n",
    "FEATURE_FILE_NAME_TRAIN = 'Data/train-features.txt'\n",
    "TARGET_FILE_NAME_TRAIN = 'Data/train-labels.txt'\n",
    "\n",
    "FEATURE_FILE_NAME_TEST = 'Data/test-features.txt'\n",
    "TARGET_FILE_NAME_TEST = 'Data/test-labels.txt'\n",
    "\n",
    "N_COL = 2500 # number of unique words from dataset\n",
    "\n",
    "# number of data entries\n",
    "N_ROW_TRAIN = 700 \n",
    "N_ROW_TEST = 260"
   ]
  },
  {
   "cell_type": "code",
   "execution_count": 50,
   "metadata": {},
   "outputs": [],
   "source": [
    "def create_df(feature_file, target_file, n_col, n_row):  \n",
    "    # Initialze data frame\n",
    "    df = pd.DataFrame(columns=range(1,n_col + 1), index=range(1, n_row + 1))\n",
    "    # Import data and populate data frame\n",
    "    with open(feature_file) as f:\n",
    "        for _, line in enumerate(f):\n",
    "            line = line.split(' ')  # each line in file\n",
    "            doc = int(line[0])\n",
    "            word_id = int(line[1])\n",
    "            freq = int(line[2])     \n",
    "            df[word_id][doc] = freq\n",
    "    # Replace NaN with 0s\n",
    "    df = df.fillna(0)\n",
    "\n",
    "    # Add target to data frame\n",
    "    email_label = pd.read_csv(target_file , sep=\" \", header=None, names = [\"target\"])\n",
    "    df['target'] = list(email_label['target']) \n",
    "    return df"
   ]
  },
  {
   "cell_type": "code",
   "execution_count": 51,
   "metadata": {},
   "outputs": [],
   "source": [
    "def naive_bayes(train_set, test_set, features):\n",
    "    # Instantiate the classifier\n",
    "    gnb = skl.naive_bayes.MultinomialNB()\n",
    "    # Train classifier\n",
    "    gnb.fit(train_set[features].values, train_set[\"target\"])\n",
    "    # Predict\n",
    "    y_pred = gnb.predict(test_set[features])\n",
    "    \n",
    "    # Report results\n",
    "    n_points = test_set.shape[0]\n",
    "    inaccurates = (test_set[\"target\"] != y_pred).sum()\n",
    "    print(\"Naive Bayes Results: \")\n",
    "    print(\"Number of mislabeled points out of a total {} points : {}, performance {:05.2f}%\"\n",
    "          .format(n_points, inaccurates, 100*(1-inaccurates / n_points)))"
   ]
  },
  {
   "cell_type": "code",
   "execution_count": 52,
   "metadata": {},
   "outputs": [],
   "source": [
    "def decision_tree(train_set, test_set, features):\n",
    "    # Instantiate the classifier\n",
    "    tree = skl.tree.DecisionTreeClassifier(criterion = \"entropy\")\n",
    "    # Train classifier\n",
    "    tree.fit(train_set[features].values, train_set['target'])\n",
    "    # Predict\n",
    "    y_pred = tree.predict(test_set[features])\n",
    "    \n",
    "    # Report results\n",
    "    n_points = test_set.shape[0]\n",
    "    inaccurates = (test_set[\"target\"] != y_pred).sum()\n",
    "    print(\"Decision Tree Results: \")\n",
    "    print(\"Number of mislabeled points out of a total {} points : {}, performance {:05.2f}%\"\n",
    "          .format(n_points, inaccurates, 100*(1-inaccurates / n_points)))"
   ]
  },
  {
   "cell_type": "code",
   "execution_count": 58,
   "metadata": {},
   "outputs": [],
   "source": [
    "def knn(train_set, test_set, features): \n",
    "    # Instantiate the classifier\n",
    "    k_neighbors= skl.neighbors.KNeighborsClassifier()\n",
    "    # Train classifier\n",
    "    k_neighbors.fit(train_set[features].values, train_set['target'])\n",
    "    # Predict\n",
    "    y_pred = k_neighbors.predict(test_set[features])\n",
    "    \n",
    "    # Report results\n",
    "    n_points = test_set.shape[0]\n",
    "    inaccurates = (test_set[\"target\"] != y_pred).sum()\n",
    "    print(\"K Neighbors Results: \")\n",
    "    print(\"Number of mislabeled points out of a total {} points : {}, performance {:05.2f}%\"\n",
    "          .format(n_points, inaccurates, 100*(1-inaccurates / n_points)))\n",
    "    print('accuracy_score: ', skl.metrics.accuracy_score(test_set[\"target\"], y_pred,normalize=True))\n",
    "    print('recall_score: ', skl.metrics.recall_score(test_set[\"target\"], y_pred))\n",
    "    print('precision_score: ', skl.metrics.precision_score(test_set[\"target\"], y_pred))\n",
    "    print('F_score: ', skl.metrics.f1_score(test_set[\"target\"], y_pred))\n",
    "    print('roc_curve: ', skl.metrics.roc_curve(test_set[\"target\"], y_pred))\n",
    "    print('confusion_matrix: ', skl.metrics.confusion_matrix(test_set[\"target\"], y_pred))"
   ]
  },
  {
   "cell_type": "code",
   "execution_count": 59,
   "metadata": {},
   "outputs": [
    {
     "name": "stdout",
     "output_type": "stream",
     "text": [
      "Naive Bayes Results: \n",
      "Number of mislabeled points out of a total 260 points : 5, performance 98.08%\n",
      "Decision Tree Results: \n",
      "Number of mislabeled points out of a total 260 points : 14, performance 94.62%\n",
      "K Neighbors Results: \n",
      "Number of mislabeled points out of a total 260 points : 23, performance 91.15%\n",
      "accuracy_score:  0.9115384615384615\n",
      "recall_score:  0.9846153846153847\n",
      "precision_score:  0.8590604026845637\n",
      "F_score:  0.9175627240143368\n",
      "roc_curve:  (array([0.        , 0.16153846, 1.        ]), array([0.        , 0.98461538, 1.        ]), array([2, 1, 0]))\n",
      "confusion_matrix:  [[109  21]\n",
      " [  2 128]]\n"
     ]
    }
   ],
   "source": [
    "def main():\n",
    "    train_df = create_df(FEATURE_FILE_NAME_TRAIN, TARGET_FILE_NAME_TRAIN, N_COL, N_ROW_TRAIN)\n",
    "    test_df = create_df(FEATURE_FILE_NAME_TEST, TARGET_FILE_NAME_TEST, N_COL, N_ROW_TEST)\n",
    "    features = list(range(1, N_COL + 1)) # every word as a feature\n",
    "\n",
    "    naive_bayes(train_df, test_df, features)\n",
    "    decision_tree(train_df, test_df, features)\n",
    "    knn(train_df, test_df, features)\n",
    "    \n",
    "if __name__ == \"__main__\":\n",
    "    main()"
   ]
  },
  {
   "cell_type": "code",
   "execution_count": 23,
   "metadata": {},
   "outputs": [],
   "source": []
  },
  {
   "cell_type": "code",
   "execution_count": null,
   "metadata": {
    "collapsed": true
   },
   "outputs": [],
   "source": []
  }
 ],
 "metadata": {
  "kernelspec": {
   "display_name": "Python 3",
   "language": "python",
   "name": "python3"
  },
  "language_info": {
   "codemirror_mode": {
    "name": "ipython",
    "version": 3
   },
   "file_extension": ".py",
   "mimetype": "text/x-python",
   "name": "python",
   "nbconvert_exporter": "python",
   "pygments_lexer": "ipython3",
   "version": "3.6.4"
  }
 },
 "nbformat": 4,
 "nbformat_minor": 2
}
